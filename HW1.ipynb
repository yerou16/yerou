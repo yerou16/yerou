{
 "cells": [
  {
   "cell_type": "code",
   "execution_count": 1,
   "id": "7fa380e7",
   "metadata": {},
   "outputs": [
    {
     "ename": "NameError",
     "evalue": "name 'csv_file_path_TV' is not defined",
     "output_type": "error",
     "traceback": [
      "\u001b[1;31m---------------------------------------------------------------------------\u001b[0m",
      "\u001b[1;31mNameError\u001b[0m                                 Traceback (most recent call last)",
      "Cell \u001b[1;32mIn[1], line 3\u001b[0m\n\u001b[0;32m      1\u001b[0m \u001b[38;5;28;01mimport\u001b[39;00m \u001b[38;5;21;01mpandas\u001b[39;00m \u001b[38;5;28;01mas\u001b[39;00m \u001b[38;5;21;01mpd\u001b[39;00m\n\u001b[0;32m      2\u001b[0m csv_file_path_2022 \u001b[38;5;241m=\u001b[39m \u001b[38;5;124m'\u001b[39m\u001b[38;5;124mTV.csv\u001b[39m\u001b[38;5;124m'\u001b[39m\n\u001b[1;32m----> 3\u001b[0m \u001b[38;5;28mprint\u001b[39m(\u001b[38;5;124m\"\u001b[39m\u001b[38;5;124mCSV文件路径 TV:\u001b[39m\u001b[38;5;124m\"\u001b[39m, csv_file_path_TV)\n\u001b[0;32m      4\u001b[0m df_TV \u001b[38;5;241m=\u001b[39m pd\u001b[38;5;241m.\u001b[39mread_csv(csv_file_path_TV)\n\u001b[0;32m      5\u001b[0m \u001b[38;5;28mprint\u001b[39m(df_TV)\n",
      "\u001b[1;31mNameError\u001b[0m: name 'csv_file_path_TV' is not defined"
     ]
    }
   ],
   "source": [
    "import pandas as pd\n",
    "csv_file_path_2022 = 'TV.csv'\n",
    "print(\"CSV文件路径 TV:\", csv_file_path_TV)\n",
    "df_TV = pd.read_csv(csv_file_path_TV)\n",
    "print(df_TV)"
   ]
  },
  {
   "cell_type": "code",
   "execution_count": null,
   "id": "4e54aeda",
   "metadata": {},
   "outputs": [],
   "source": []
  }
 ],
 "metadata": {
  "kernelspec": {
   "display_name": "Python 3 (ipykernel)",
   "language": "python",
   "name": "python3"
  },
  "language_info": {
   "codemirror_mode": {
    "name": "ipython",
    "version": 3
   },
   "file_extension": ".py",
   "mimetype": "text/x-python",
   "name": "python",
   "nbconvert_exporter": "python",
   "pygments_lexer": "ipython3",
   "version": "3.11.4"
  }
 },
 "nbformat": 4,
 "nbformat_minor": 5
}
