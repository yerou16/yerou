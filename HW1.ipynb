{
 "cells": [
  {
   "cell_type": "code",
   "execution_count": null,
   "id": "9c15115b",
   "metadata": {},
   "outputs": [],
   "source": [
    "import subprocess\n",
    "\n",
    "# 使用 subprocess 执行 pip 安装命令\n",
    "subprocess.check_call([\"pip\", \"install\", \"-U\", \"kaleido\"])"
   ]
  },
  {
   "cell_type": "code",
   "execution_count": null,
   "id": "7fa380e7",
   "metadata": {},
   "outputs": [],
   "source": [
    "import pandas as pd\n",
    "\n",
    "csv_file_path_QIY = 'QIY.csv'\n",
    "\n",
    "print(\"CSV文件路径 QIY:\", csv_file_path_QIY)\n",
    "\n",
    "df_QIY = pd.read_csv(csv_file_path_QIY)\n",
    "\n",
    "print(df_QIY)"
   ]
  },
  {
   "cell_type": "code",
   "execution_count": null,
   "id": "e1b02f3b",
   "metadata": {},
   "outputs": [],
   "source": [
    "x_QIY = df_QIY['日期'].tolist()\n",
    "y_QIY = df_QIY['平台熱度'].tolist()\n",
    "data_QIY = list(zip(x_QIY, y_QIY))\n",
    "\n",
    "import plotly.express as px\n",
    "from IPython.display import display\n",
    "\n",
    "fig = px.line(df_QIY, x=\"日期\", y=\"平台熱度\", title='蓮花樓-愛奇藝平台熱度')\n",
    "display(fig)"
   ]
  },
  {
   "cell_type": "code",
   "execution_count": null,
   "id": "a35a0b02",
   "metadata": {},
   "outputs": [],
   "source": [
    "csv_file_path_ALL = 'ALL.csv'\n",
    "\n",
    "print(\"CSV文件路径 ALL:\", csv_file_path_ALL)\n",
    "\n",
    "df_ALL = pd.read_csv(csv_file_path_ALL)\n",
    "\n",
    "print(df_ALL)"
   ]
  },
  {
   "cell_type": "code",
   "execution_count": null,
   "id": "698e9664",
   "metadata": {},
   "outputs": [],
   "source": [
    "x_ALL = df_ALL['日期'].tolist()\n",
    "y_ALL = df_ALL['全端播放熱度'].tolist()\n",
    "data_ALL = list(zip(x_ALL, y_ALL))\n",
    "\n",
    "fig = px.line(df_ALL, x=\"日期\", y=\"全端播放熱度\", title='蓮花樓-全端播放熱度')\n",
    "display(fig)"
   ]
  },
  {
   "cell_type": "code",
   "execution_count": null,
   "id": "a10282df",
   "metadata": {},
   "outputs": [],
   "source": [
    "#愛奇藝的平台熱度在全端播放熱度中的占比為何?\n",
    "import plotly.graph_objs as go\n",
    "import plotly.subplots as sp\n",
    "\n",
    "merged_df = df_ALL.merge(df_QIY, on='日期', how='inner')\n",
    "\n",
    "fig = sp.make_subplots(rows=1, cols=1)\n",
    "\n",
    "trace1 = go.Bar(x=merged_df['日期'], y=merged_df['平台熱度'], name='愛奇藝平台熱度')\n",
    "trace2 = go.Bar(x=merged_df['日期'], y=merged_df['全端播放熱度'], name='全端播放熱度')\n",
    "\n",
    "fig.add_trace(trace1)\n",
    "fig.add_trace(trace2)\n",
    "\n",
    "fig.update_layout(\n",
    "    title='蓮花樓_愛奇藝平台熱度和全端播放熱度比較',\n",
    "    xaxis=dict(title='日期'),\n",
    "    yaxis=dict(title='熱度')\n",
    ")\n",
    "\n",
    "display(fig)\n",
    "\n",
    "fig.write_image(\"merged_chart.png\", format=\"png\")"
   ]
  },
  {
   "cell_type": "code",
   "execution_count": null,
   "id": "03900a6e",
   "metadata": {},
   "outputs": [],
   "source": []
  }
 ],
 "metadata": {
  "kernelspec": {
   "display_name": "Python 3 (ipykernel)",
   "language": "python",
   "name": "python3"
  },
  "language_info": {
   "codemirror_mode": {
    "name": "ipython",
    "version": 3
   },
   "file_extension": ".py",
   "mimetype": "text/x-python",
   "name": "python",
   "nbconvert_exporter": "python",
   "pygments_lexer": "ipython3",
   "version": "3.11.4"
  }
 },
 "nbformat": 4,
 "nbformat_minor": 5
}
